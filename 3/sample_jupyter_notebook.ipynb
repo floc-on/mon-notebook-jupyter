{
 "cells": [
  {
   "cell_type": "markdown",
   "id": "74ae8cf3",
   "metadata": {},
   "source": [
    "\n",
    "# Welcome to your Jupyter Notebook\n",
    "\n",
    "This is a sample Jupyter Notebook to help you get started with adding Notebooks to Moodle.\n",
    "\n",
    "## Sections covered\n",
    "1. **Basic Python example**\n",
    "2. **A simple graph using `matplotlib`**\n"
   ]
  },
  {
   "cell_type": "code",
   "execution_count": null,
   "id": "746d79fb",
   "metadata": {},
   "outputs": [],
   "source": [
    "\n",
    "# This is a simple Python code to print a message\n",
    "print(\"Hello from Jupyter Notebook in Moodle!\")\n"
   ]
  },
  {
   "cell_type": "code",
   "execution_count": null,
   "id": "f9f37983",
   "metadata": {},
   "outputs": [],
   "source": [
    "\n",
    "import matplotlib.pyplot as plt\n",
    "\n",
    "# Data\n",
    "x = [1, 2, 3, 4, 5]\n",
    "y = [10, 20, 25, 30, 40]\n",
    "\n",
    "# Plot\n",
    "plt.plot(x, y, marker=\"o\")\n",
    "\n",
    "# Labels\n",
    "plt.xlabel('X-axis')\n",
    "plt.ylabel('Y-axis')\n",
    "plt.title('Simple Line Plot')\n",
    "\n",
    "# Display\n",
    "plt.show()\n"
   ]
  }
 ],
 "metadata": {},
 "nbformat": 4,
 "nbformat_minor": 5
}
